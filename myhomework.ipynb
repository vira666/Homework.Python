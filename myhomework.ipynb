{
 "cells": [
  {
   "cell_type": "markdown",
   "id": "66677322",
   "metadata": {},
   "source": [
    "### Задание 1."
   ]
  },
  {
   "cell_type": "code",
   "execution_count": 15,
   "id": "b4c7975b",
   "metadata": {},
   "outputs": [
    {
     "name": "stdout",
     "output_type": "stream",
     "text": [
      "по шкале от 0 до 10, напишите, насколько Вы устали: 10\n",
      "Вы крайне устали\n"
     ]
    }
   ],
   "source": [
    "a = float(input('по шкале от 0 до 10, напишите, насколько Вы устали: '))\n",
    "if a < 0.7:\n",
    "    print('Кажется, Вы совсем не устали')\n",
    "elif 0.7 <= a <= 4.8:\n",
    "    print('Вы немного устали')\n",
    "elif 4.9 <= a <= 6.8:\n",
    "    print('Вы устали достаточно')\n",
    "elif 6.9 <= a <= 10:\n",
    "    print('Вы крайне устали')\n",
    "else: \n",
    "    print('Вам пора в санаторий!')"
   ]
  },
  {
   "cell_type": "markdown",
   "id": "40d45195",
   "metadata": {},
   "source": [
    "### Задание 2."
   ]
  },
  {
   "cell_type": "code",
   "execution_count": 1,
   "id": "0dac52cb",
   "metadata": {},
   "outputs": [],
   "source": [
    "import random"
   ]
  },
  {
   "cell_type": "code",
   "execution_count": 2,
   "id": "7541f1d4",
   "metadata": {},
   "outputs": [],
   "source": [
    "cocktails = [\n",
    "    [\"мартини\",\"грейпфрутовый сок\",\"жасмин\",\"тоник\",\"лосось\"],\n",
    "    [\"клубника\",\"какао\",\"мята\",\"марсала\"],\n",
    "    [\"водка\",\"томатный сок\",\"лимонный сок\",\"вустерширский соус\",\"черный перец\",\"сельдерей\",\"лосось\"],\n",
    "    [\"джин\",\"вермут\",\"ликер мараскино\",\"апельсины\",\"коктейльная вишня\",\"лосось\"],\n",
    "    [\"ром\",\"авокадо\",\"сахарный сироп\",\"сливки\",\"лимонный сок\",\"лед\"],\n",
    "    [\"красный вермут\",\"тоник\",\"апельсины\",\"лосось\"],\n",
    "    [\"только чай\"]\n",
    "        ]"
   ]
  },
  {
   "cell_type": "code",
   "execution_count": 14,
   "id": "31e4b1ee",
   "metadata": {},
   "outputs": [
    {
     "name": "stdout",
     "output_type": "stream",
     "text": [
      "['только чай'] ['водка', 'томатный сок', 'лимонный сок', 'вустерширский соус', 'черный перец', 'сельдерей']\n"
     ]
    }
   ],
   "source": [
    "j = 'лосось'\n",
    "for i in cocktails: \n",
    "    if j in i:\n",
    "        i.remove('лосось')\n",
    "    else:\n",
    "        continue\n",
    "print(i, random.choice(cocktails))    "
   ]
  },
  {
   "cell_type": "markdown",
   "id": "ff19a099",
   "metadata": {},
   "source": [
    "### Задание 3."
   ]
  },
  {
   "cell_type": "code",
   "execution_count": 19,
   "id": "618cc755",
   "metadata": {},
   "outputs": [],
   "source": [
    "postcards = {\n",
    "    \"Maria\":\"London\",\n",
    "    \"Lorenzo\":\"Milan\",\n",
    "    \"Oleg\":\"Canberra\",\n",
    "    \"Hans\":\"Calgary\",\n",
    "    \"Mark\":\"Milan\",\n",
    "    \"Alex\":\"Krakow\",\n",
    "    \"Julia\":\"Murmansk\"\n",
    "}"
   ]
  },
  {
   "cell_type": "code",
   "execution_count": 21,
   "id": "bc6c82d3",
   "metadata": {},
   "outputs": [
    {
     "name": "stdout",
     "output_type": "stream",
     "text": [
      "{'Maria': 'London', 'Lorenzo': 'Milan', 'Oleg': 'Canberra', 'Hans': 'Calgary', 'Mark': 'Milan', 'Alex': 'Krakow', 'Julia': 'Murmansk', 'Petra': 'Paris', 'Ivan': 'Moscow'}\n"
     ]
    }
   ],
   "source": [
    "new_dict = {\"Petra\":\"Paris\", \"Ivan\":\"Moscow\"}\n",
    "postcards.update(new_dict)\n",
    "print(postcards)"
   ]
  },
  {
   "cell_type": "code",
   "execution_count": 25,
   "id": "f72f45d2",
   "metadata": {},
   "outputs": [
    {
     "name": "stdout",
     "output_type": "stream",
     "text": [
      "{'Maria': 'London', 'Lorenzo': 'Milan', 'Oleg': 'Sydney', 'Hans': 'Calgary', 'Mark': 'Milan', 'Alex': 'Krakow', 'Julia': 'Murmansk', 'Petra': 'Paris', 'Ivan': 'Moscow'}\n"
     ]
    }
   ],
   "source": [
    "postcards['Oleg'] = 'Sydney'\n",
    "print(postcards)"
   ]
  },
  {
   "cell_type": "code",
   "execution_count": 30,
   "id": "1657b5e5",
   "metadata": {},
   "outputs": [
    {
     "data": {
      "text/plain": [
       "9"
      ]
     },
     "execution_count": 30,
     "metadata": {},
     "output_type": "execute_result"
    }
   ],
   "source": [
    "len(postcards.values())"
   ]
  },
  {
   "cell_type": "code",
   "execution_count": 32,
   "id": "b9923d8c",
   "metadata": {},
   "outputs": [
    {
     "data": {
      "text/plain": [
       "['London',\n",
       " 'Milan',\n",
       " 'Sydney',\n",
       " 'Calgary',\n",
       " 'Milan',\n",
       " 'Krakow',\n",
       " 'Murmansk',\n",
       " 'Paris',\n",
       " 'Moscow']"
      ]
     },
     "execution_count": 32,
     "metadata": {},
     "output_type": "execute_result"
    }
   ],
   "source": [
    "list(postcards.values())"
   ]
  },
  {
   "cell_type": "code",
   "execution_count": null,
   "id": "5fc34108",
   "metadata": {},
   "outputs": [],
   "source": []
  }
 ],
 "metadata": {
  "kernelspec": {
   "display_name": "Python 3",
   "language": "python",
   "name": "python3"
  },
  "language_info": {
   "codemirror_mode": {
    "name": "ipython",
    "version": 3
   },
   "file_extension": ".py",
   "mimetype": "text/x-python",
   "name": "python",
   "nbconvert_exporter": "python",
   "pygments_lexer": "ipython3",
   "version": "3.8.8"
  }
 },
 "nbformat": 4,
 "nbformat_minor": 5
}
