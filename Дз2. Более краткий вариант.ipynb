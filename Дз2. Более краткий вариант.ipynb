{
 "cells": [
  {
   "cell_type": "code",
   "execution_count": null,
   "id": "ded11c6a",
   "metadata": {},
   "outputs": [],
   "source": [
    "! pip3 install requests \n",
    "! pip3 install beautifulsoup4 "
   ]
  },
  {
   "cell_type": "code",
   "execution_count": 1,
   "id": "8b60df9a",
   "metadata": {},
   "outputs": [],
   "source": [
    "import requests as rq\n",
    "\n",
    "from bs4 import BeautifulSoup\n",
    "\n",
    "import pandas as pd "
   ]
  },
  {
   "cell_type": "code",
   "execution_count": 2,
   "id": "6e03512f",
   "metadata": {},
   "outputs": [
    {
     "data": {
      "text/plain": [
       "<Response [200]>"
      ]
     },
     "execution_count": 2,
     "metadata": {},
     "output_type": "execute_result"
    }
   ],
   "source": [
    "url1 = 'https://www.vedomosti.ru/ecology/articles/2021/09/01/884770-esg-perevode-russkii'\n",
    "page1 = rq.get(url1)\n",
    "page1 "
   ]
  },
  {
   "cell_type": "code",
   "execution_count": 3,
   "id": "34fdabf5",
   "metadata": {},
   "outputs": [
    {
     "data": {
      "text/plain": [
       "<Response [200]>"
      ]
     },
     "execution_count": 3,
     "metadata": {},
     "output_type": "execute_result"
    }
   ],
   "source": [
    "url2 = 'https://www.vedomosti.ru/ecology/articles/2021/09/01/884775-promishlennost-uglerodnii'\n",
    "page2 = rq.get(url2)\n",
    "page2 "
   ]
  },
  {
   "cell_type": "code",
   "execution_count": 4,
   "id": "1900cd2e",
   "metadata": {},
   "outputs": [
    {
     "data": {
      "text/plain": [
       "<Response [200]>"
      ]
     },
     "execution_count": 4,
     "metadata": {},
     "output_type": "execute_result"
    }
   ],
   "source": [
    "url3 = 'https://www.vedomosti.ru/ecology/articles/2021/09/01/884776-esg-igri'\n",
    "page3 = rq.get(url3)\n",
    "page3"
   ]
  },
  {
   "cell_type": "code",
   "execution_count": 5,
   "id": "322c4d28",
   "metadata": {},
   "outputs": [
    {
     "data": {
      "text/plain": [
       "<Response [200]>"
      ]
     },
     "execution_count": 5,
     "metadata": {},
     "output_type": "execute_result"
    }
   ],
   "source": [
    "url4 = 'https://www.vedomosti.ru/ecology/articles/2021/06/02/872600-zelenaya-beskonechnaya'\n",
    "page4 = rq.get(url4)\n",
    "page4 "
   ]
  },
  {
   "cell_type": "code",
   "execution_count": 6,
   "id": "27aae446",
   "metadata": {},
   "outputs": [
    {
     "data": {
      "text/plain": [
       "<Response [200]>"
      ]
     },
     "execution_count": 6,
     "metadata": {},
     "output_type": "execute_result"
    }
   ],
   "source": [
    "url5 = 'https://www.vedomosti.ru/ecology/characters/2021/06/02/872605-sergei-chikalov'\n",
    "page5 = rq.get(url5)\n",
    "page5 "
   ]
  },
  {
   "cell_type": "code",
   "execution_count": 7,
   "id": "72929a22",
   "metadata": {},
   "outputs": [
    {
     "data": {
      "text/plain": [
       "<Response [200]>"
      ]
     },
     "execution_count": 7,
     "metadata": {},
     "output_type": "execute_result"
    }
   ],
   "source": [
    "url6 = 'https://www.vedomosti.ru/ecology/articles/2021/06/02/872606-dishat-grudyu'\n",
    "page6 = rq.get(url6)\n",
    "page6 "
   ]
  },
  {
   "cell_type": "code",
   "execution_count": 8,
   "id": "4103d937",
   "metadata": {},
   "outputs": [
    {
     "data": {
      "text/plain": [
       "<Response [200]>"
      ]
     },
     "execution_count": 8,
     "metadata": {},
     "output_type": "execute_result"
    }
   ],
   "source": [
    "url7='https://www.vedomosti.ru/ecology/articles/2021/06/02/872608-uberi-soboi'\n",
    "page7 = rq.get(url7)\n",
    "page7 "
   ]
  },
  {
   "cell_type": "code",
   "execution_count": 9,
   "id": "aa32dad3",
   "metadata": {},
   "outputs": [
    {
     "data": {
      "text/plain": [
       "<Response [200]>"
      ]
     },
     "execution_count": 9,
     "metadata": {},
     "output_type": "execute_result"
    }
   ],
   "source": [
    "url8='https://www.vedomosti.ru/ecology/articles/2021/06/03/872610-deistvitelnoe-zhelaemoe'\n",
    "page8 = rq.get(url8)\n",
    "page8 "
   ]
  },
  {
   "cell_type": "code",
   "execution_count": 10,
   "id": "cbd6efdf",
   "metadata": {},
   "outputs": [],
   "source": [
    "urls=[]\n",
    "urls.extend([url1, url2, url3, url4, url5, url6, url7, url8])"
   ]
  },
  {
   "cell_type": "code",
   "execution_count": 11,
   "id": "88d7eb2d",
   "metadata": {},
   "outputs": [],
   "source": [
    "pages=[]\n",
    "pages.extend([page1, page2, page3, page4, page5, page6, page7, page8])"
   ]
  },
  {
   "cell_type": "code",
   "execution_count": 17,
   "id": "4d9da5fd",
   "metadata": {},
   "outputs": [
    {
     "data": {
      "text/html": [
       "<div>\n",
       "<style scoped>\n",
       "    .dataframe tbody tr th:only-of-type {\n",
       "        vertical-align: middle;\n",
       "    }\n",
       "\n",
       "    .dataframe tbody tr th {\n",
       "        vertical-align: top;\n",
       "    }\n",
       "\n",
       "    .dataframe thead th {\n",
       "        text-align: right;\n",
       "    }\n",
       "</style>\n",
       "<table border=\"1\" class=\"dataframe\">\n",
       "  <thead>\n",
       "    <tr style=\"text-align: right;\">\n",
       "      <th></th>\n",
       "      <th>Заголовок</th>\n",
       "      <th>Текст</th>\n",
       "      <th>Дата</th>\n",
       "      <th>Источник</th>\n",
       "    </tr>\n",
       "  </thead>\n",
       "  <tbody>\n",
       "    <tr>\n",
       "      <th>0</th>\n",
       "      <td>\\n    ESG в переводе на русский\\n</td>\n",
       "      <td>Российский бизнес массово увлекся ESG-концепци...</td>\n",
       "      <td>02 сентября 2021, 01:30 /</td>\n",
       "      <td>[https://www.vedomosti.ru/ecology/articles/202...</td>\n",
       "    </tr>\n",
       "    <tr>\n",
       "      <th>1</th>\n",
       "      <td>\\n    Промышленность сокращает углеродный след...</td>\n",
       "      <td>Трубная металлургическая компания (ТМК) в авгу...</td>\n",
       "      <td>02 сентября 2021, 01:30 /</td>\n",
       "      <td>[https://www.vedomosti.ru/ecology/articles/202...</td>\n",
       "    </tr>\n",
       "    <tr>\n",
       "      <th>2</th>\n",
       "      <td>\\n    ESG нужны правила игры\\n</td>\n",
       "      <td>Историю выделения ESG-идеологии из общей повес...</td>\n",
       "      <td>02 сентября 2021, 01:30 /</td>\n",
       "      <td>[https://www.vedomosti.ru/ecology/articles/202...</td>\n",
       "    </tr>\n",
       "    <tr>\n",
       "      <th>3</th>\n",
       "      <td>\\n    Зеленая и бесконечная\\n</td>\n",
       "      <td>Некарбонная энергетика интересует прогрессивны...</td>\n",
       "      <td>03 июня 2021, 00:33 /</td>\n",
       "      <td>[https://www.vedomosti.ru/ecology/articles/202...</td>\n",
       "    </tr>\n",
       "    <tr>\n",
       "      <th>4</th>\n",
       "      <td>\\n    Сергей Чикалов: «ТМК уже создает новые м...</td>\n",
       "      <td>Металлургия – одна из наиболее экологически ри...</td>\n",
       "      <td>03 июня 2021, 00:26 /</td>\n",
       "      <td>[https://www.vedomosti.ru/ecology/articles/202...</td>\n",
       "    </tr>\n",
       "    <tr>\n",
       "      <th>5</th>\n",
       "      <td>\\n    Дышать полной «грудью»\\n</td>\n",
       "      <td>Москва попала в список 30 лучших столиц по кач...</td>\n",
       "      <td>03 июня 2021, 00:30 /</td>\n",
       "      <td>[https://www.vedomosti.ru/ecology/articles/202...</td>\n",
       "    </tr>\n",
       "    <tr>\n",
       "      <th>6</th>\n",
       "      <td>\\n    По принципу «убери за собой»\\n</td>\n",
       "      <td>Необходимо изменить отношение предпринимателей...</td>\n",
       "      <td>03 июня 2021, 00:45 /</td>\n",
       "      <td>[https://www.vedomosti.ru/ecology/articles/202...</td>\n",
       "    </tr>\n",
       "    <tr>\n",
       "      <th>7</th>\n",
       "      <td>\\n    Действительное на желаемое\\n</td>\n",
       "      <td>Несмотря на идущую в России «мусорную» реформу...</td>\n",
       "      <td>03 июня 2021, 00:43 /</td>\n",
       "      <td>[https://www.vedomosti.ru/ecology/articles/202...</td>\n",
       "    </tr>\n",
       "  </tbody>\n",
       "</table>\n",
       "</div>"
      ],
      "text/plain": [
       "                                           Заголовок  \\\n",
       "0                \\n    ESG в переводе на русский\\n     \n",
       "1  \\n    Промышленность сокращает углеродный след...   \n",
       "2                   \\n    ESG нужны правила игры\\n     \n",
       "3                    \\n    Зеленая и бесконечная\\n     \n",
       "4  \\n    Сергей Чикалов: «ТМК уже создает новые м...   \n",
       "5                   \\n    Дышать полной «грудью»\\n     \n",
       "6             \\n    По принципу «убери за собой»\\n     \n",
       "7               \\n    Действительное на желаемое\\n     \n",
       "\n",
       "                                               Текст  \\\n",
       "0  Российский бизнес массово увлекся ESG-концепци...   \n",
       "1  Трубная металлургическая компания (ТМК) в авгу...   \n",
       "2  Историю выделения ESG-идеологии из общей повес...   \n",
       "3  Некарбонная энергетика интересует прогрессивны...   \n",
       "4  Металлургия – одна из наиболее экологически ри...   \n",
       "5  Москва попала в список 30 лучших столиц по кач...   \n",
       "6  Необходимо изменить отношение предпринимателей...   \n",
       "7  Несмотря на идущую в России «мусорную» реформу...   \n",
       "\n",
       "                        Дата  \\\n",
       "0  02 сентября 2021, 01:30 /   \n",
       "1  02 сентября 2021, 01:30 /   \n",
       "2  02 сентября 2021, 01:30 /   \n",
       "3      03 июня 2021, 00:33 /   \n",
       "4      03 июня 2021, 00:26 /   \n",
       "5      03 июня 2021, 00:30 /   \n",
       "6      03 июня 2021, 00:45 /   \n",
       "7      03 июня 2021, 00:43 /   \n",
       "\n",
       "                                            Источник  \n",
       "0  [https://www.vedomosti.ru/ecology/articles/202...  \n",
       "1  [https://www.vedomosti.ru/ecology/articles/202...  \n",
       "2  [https://www.vedomosti.ru/ecology/articles/202...  \n",
       "3  [https://www.vedomosti.ru/ecology/articles/202...  \n",
       "4  [https://www.vedomosti.ru/ecology/articles/202...  \n",
       "5  [https://www.vedomosti.ru/ecology/articles/202...  \n",
       "6  [https://www.vedomosti.ru/ecology/articles/202...  \n",
       "7  [https://www.vedomosti.ru/ecology/articles/202...  "
      ]
     },
     "metadata": {},
     "output_type": "display_data"
    }
   ],
   "source": [
    "idx=0\n",
    "data={}\n",
    "for page in pages:\n",
    "    soup = BeautifulSoup(page.text, 'html.parser')   \n",
    "    title=soup.find('h1',{'class':\"article-headline__title\"}).text\n",
    "    text_body=soup.find('p',{'class':'box-paragraph__text'}).text\n",
    "    time=soup.find('time',{\"class\":\"article-meta__date\"}).text\n",
    "    data[idx] = list()\n",
    "    data[idx].extend([title,text_body,time,urls])\n",
    "    idx +=1\n",
    "df = pd.DataFrame.from_dict(data, columns=[\"Заголовок\", \"Текст\", \"Дата\", \"Источник\"], orient=\"index\")\n",
    "display(df)"
   ]
  }
 ],
 "metadata": {
  "kernelspec": {
   "display_name": "Python 3",
   "language": "python",
   "name": "python3"
  },
  "language_info": {
   "codemirror_mode": {
    "name": "ipython",
    "version": 3
   },
   "file_extension": ".py",
   "mimetype": "text/x-python",
   "name": "python",
   "nbconvert_exporter": "python",
   "pygments_lexer": "ipython3",
   "version": "3.8.8"
  }
 },
 "nbformat": 4,
 "nbformat_minor": 5
}
