{
 "cells": [
  {
   "cell_type": "markdown",
   "id": "b101ff22",
   "metadata": {},
   "source": [
    "### Домашнее задание № 2"
   ]
  },
  {
   "cell_type": "code",
   "execution_count": 38,
   "id": "64548150",
   "metadata": {},
   "outputs": [
    {
     "name": "stdout",
     "output_type": "stream",
     "text": [
      "Requirement already satisfied: requests in c:\\users\\vira_\\anaconda3\\lib\\site-packages (2.25.1)\n",
      "Requirement already satisfied: idna<3,>=2.5 in c:\\users\\vira_\\anaconda3\\lib\\site-packages (from requests) (2.10)\n",
      "Requirement already satisfied: urllib3<1.27,>=1.21.1 in c:\\users\\vira_\\anaconda3\\lib\\site-packages (from requests) (1.26.4)\n",
      "Requirement already satisfied: certifi>=2017.4.17 in c:\\users\\vira_\\anaconda3\\lib\\site-packages (from requests) (2020.12.5)\n",
      "Requirement already satisfied: chardet<5,>=3.0.2 in c:\\users\\vira_\\anaconda3\\lib\\site-packages (from requests) (4.0.0)\n",
      "Requirement already satisfied: beautifulsoup4 in c:\\users\\vira_\\anaconda3\\lib\\site-packages (4.9.3)\n",
      "Requirement already satisfied: soupsieve>1.2 in c:\\users\\vira_\\anaconda3\\lib\\site-packages (from beautifulsoup4) (2.2.1)\n"
     ]
    }
   ],
   "source": [
    "! pip3 install requests \n",
    "! pip3 install beautifulsoup4 "
   ]
  },
  {
   "cell_type": "code",
   "execution_count": 3,
   "id": "46ced77e",
   "metadata": {},
   "outputs": [],
   "source": [
    "import requests as rq\n",
    "\n",
    "from bs4 import BeautifulSoup\n",
    "\n",
    "import pandas as pd "
   ]
  },
  {
   "cell_type": "code",
   "execution_count": 4,
   "id": "aac2f9f4",
   "metadata": {},
   "outputs": [
    {
     "data": {
      "text/plain": [
       "<Response [200]>"
      ]
     },
     "execution_count": 4,
     "metadata": {},
     "output_type": "execute_result"
    }
   ],
   "source": [
    "url1 = 'https://www.vedomosti.ru/ecology/articles/2021/09/01/884770-esg-perevode-russkii'\n",
    "page1 = rq.get(url1)\n",
    "page1 "
   ]
  },
  {
   "cell_type": "code",
   "execution_count": 5,
   "id": "c59354f4",
   "metadata": {},
   "outputs": [],
   "source": [
    "soup = BeautifulSoup(page1.text, 'html.parser')"
   ]
  },
  {
   "cell_type": "code",
   "execution_count": 6,
   "id": "2960efc0",
   "metadata": {},
   "outputs": [],
   "source": [
    "title1=soup.find('h1',{'class':\"article-headline__title\"}).text\n",
    "text_body1=soup.find('p',{'class':'box-paragraph__text'}).text\n",
    "time1=soup.find('time',{\"class\":\"article-meta__date\"}).text"
   ]
  },
  {
   "cell_type": "code",
   "execution_count": 7,
   "id": "aca5b89f",
   "metadata": {},
   "outputs": [
    {
     "data": {
      "text/plain": [
       "<Response [200]>"
      ]
     },
     "execution_count": 7,
     "metadata": {},
     "output_type": "execute_result"
    }
   ],
   "source": [
    "url2 = 'https://www.vedomosti.ru/ecology/articles/2021/09/01/884775-promishlennost-uglerodnii'\n",
    "page2 = rq.get(url2)\n",
    "page2 "
   ]
  },
  {
   "cell_type": "code",
   "execution_count": 8,
   "id": "3f60e3fe",
   "metadata": {},
   "outputs": [],
   "source": [
    "soup = BeautifulSoup(page2.text, 'html.parser')"
   ]
  },
  {
   "cell_type": "code",
   "execution_count": 9,
   "id": "229b9857",
   "metadata": {},
   "outputs": [],
   "source": [
    "title2=soup.find('h1',{'class':\"article-headline__title\"}).text\n",
    "text_body2=soup.find('p',{'class':'box-paragraph__text'}).text\n",
    "time2=soup.find('time',{\"class\":\"article-meta__date\"}).text"
   ]
  },
  {
   "cell_type": "code",
   "execution_count": 10,
   "id": "b5fc0a6d",
   "metadata": {},
   "outputs": [
    {
     "data": {
      "text/plain": [
       "<Response [200]>"
      ]
     },
     "execution_count": 10,
     "metadata": {},
     "output_type": "execute_result"
    }
   ],
   "source": [
    "url3 = 'https://www.vedomosti.ru/ecology/articles/2021/09/01/884776-esg-igri'\n",
    "page3 = rq.get(url3)\n",
    "page3"
   ]
  },
  {
   "cell_type": "code",
   "execution_count": 11,
   "id": "9e6e9972",
   "metadata": {},
   "outputs": [],
   "source": [
    "soup = BeautifulSoup(page3.text, 'html.parser')"
   ]
  },
  {
   "cell_type": "code",
   "execution_count": 12,
   "id": "d97a8cfa",
   "metadata": {},
   "outputs": [],
   "source": [
    "title3=soup.find('h1',{'class':\"article-headline__title\"}).text\n",
    "text_body3=soup.find('p',{'class':'box-paragraph__text'}).text\n",
    "time3=soup.find('time',{\"class\":\"article-meta__date\"}).text"
   ]
  },
  {
   "cell_type": "code",
   "execution_count": 13,
   "id": "805c02d0",
   "metadata": {},
   "outputs": [
    {
     "data": {
      "text/plain": [
       "<Response [200]>"
      ]
     },
     "execution_count": 13,
     "metadata": {},
     "output_type": "execute_result"
    }
   ],
   "source": [
    "url4 = 'https://www.vedomosti.ru/ecology/articles/2021/06/02/872600-zelenaya-beskonechnaya'\n",
    "page4 = rq.get(url4)\n",
    "page4 "
   ]
  },
  {
   "cell_type": "code",
   "execution_count": 14,
   "id": "5e980735",
   "metadata": {},
   "outputs": [],
   "source": [
    "soup = BeautifulSoup(page4.text, 'html.parser')"
   ]
  },
  {
   "cell_type": "code",
   "execution_count": 15,
   "id": "829f43f0",
   "metadata": {},
   "outputs": [],
   "source": [
    "title4=soup.find('h1',{'class':\"article-headline__title\"}).text\n",
    "text_body4=soup.find('p',{'class':'box-paragraph__text'}).text\n",
    "time4=soup.find('time',{\"class\":\"article-meta__date\"}).text"
   ]
  },
  {
   "cell_type": "code",
   "execution_count": 16,
   "id": "089e9b87",
   "metadata": {},
   "outputs": [
    {
     "data": {
      "text/plain": [
       "<Response [200]>"
      ]
     },
     "execution_count": 16,
     "metadata": {},
     "output_type": "execute_result"
    }
   ],
   "source": [
    "url5 = 'https://www.vedomosti.ru/ecology/characters/2021/06/02/872605-sergei-chikalov'\n",
    "page5 = rq.get(url5)\n",
    "page5 "
   ]
  },
  {
   "cell_type": "code",
   "execution_count": 17,
   "id": "5925aa12",
   "metadata": {},
   "outputs": [],
   "source": [
    "soup = BeautifulSoup(page5.text, 'html.parser')"
   ]
  },
  {
   "cell_type": "code",
   "execution_count": 18,
   "id": "ba7f93b4",
   "metadata": {},
   "outputs": [],
   "source": [
    "title5=soup.find('h1',{'class':\"article-headline__title\"}).text\n",
    "text_body5=soup.find('p',{'class':'box-paragraph__text'}).text\n",
    "time5=soup.find('time',{\"class\":\"article-meta__date\"}).text"
   ]
  },
  {
   "cell_type": "code",
   "execution_count": 19,
   "id": "d009cd7a",
   "metadata": {},
   "outputs": [
    {
     "data": {
      "text/plain": [
       "<Response [200]>"
      ]
     },
     "execution_count": 19,
     "metadata": {},
     "output_type": "execute_result"
    }
   ],
   "source": [
    "url6 = 'https://www.vedomosti.ru/ecology/articles/2021/06/02/872606-dishat-grudyu'\n",
    "page6 = rq.get(url6)\n",
    "page6 "
   ]
  },
  {
   "cell_type": "code",
   "execution_count": 20,
   "id": "447b6912",
   "metadata": {},
   "outputs": [],
   "source": [
    "soup = BeautifulSoup(page6.text, 'html.parser')"
   ]
  },
  {
   "cell_type": "code",
   "execution_count": 21,
   "id": "e3d201a8",
   "metadata": {},
   "outputs": [],
   "source": [
    "title6=soup.find('h1',{'class':\"article-headline__title\"}).text\n",
    "text_body6=soup.find('p',{'class':'box-paragraph__text'}).text\n",
    "time6=soup.find('time',{\"class\":\"article-meta__date\"}).text"
   ]
  },
  {
   "cell_type": "code",
   "execution_count": 22,
   "id": "ab48f0a1",
   "metadata": {},
   "outputs": [
    {
     "data": {
      "text/plain": [
       "<Response [200]>"
      ]
     },
     "execution_count": 22,
     "metadata": {},
     "output_type": "execute_result"
    }
   ],
   "source": [
    "url7='https://www.vedomosti.ru/ecology/articles/2021/06/02/872608-uberi-soboi'\n",
    "page7 = rq.get(url7)\n",
    "page7 "
   ]
  },
  {
   "cell_type": "code",
   "execution_count": 23,
   "id": "e166fb6a",
   "metadata": {},
   "outputs": [],
   "source": [
    "soup = BeautifulSoup(page7.text, 'html.parser')"
   ]
  },
  {
   "cell_type": "code",
   "execution_count": 24,
   "id": "5a0d0e24",
   "metadata": {},
   "outputs": [],
   "source": [
    "title7=soup.find('h1',{'class':\"article-headline__title\"}).text\n",
    "text_body7=soup.find('p',{'class':'box-paragraph__text'}).text\n",
    "time7=soup.find('time',{\"class\":\"article-meta__date\"}).text"
   ]
  },
  {
   "cell_type": "code",
   "execution_count": 25,
   "id": "c25bb113",
   "metadata": {},
   "outputs": [
    {
     "data": {
      "text/plain": [
       "<Response [200]>"
      ]
     },
     "execution_count": 25,
     "metadata": {},
     "output_type": "execute_result"
    }
   ],
   "source": [
    "url8='https://www.vedomosti.ru/ecology/articles/2021/06/03/872610-deistvitelnoe-zhelaemoe'\n",
    "page8 = rq.get(url8)\n",
    "page8 "
   ]
  },
  {
   "cell_type": "code",
   "execution_count": 26,
   "id": "6e5580f8",
   "metadata": {},
   "outputs": [],
   "source": [
    "soup = BeautifulSoup(page8.text, 'html.parser')"
   ]
  },
  {
   "cell_type": "code",
   "execution_count": 27,
   "id": "7126958e",
   "metadata": {},
   "outputs": [],
   "source": [
    "title8=soup.find('h1',{'class':\"article-headline__title\"}).text\n",
    "text_body8=soup.find('p',{'class':'box-paragraph__text'}).text\n",
    "time8=soup.find('time',{\"class\":\"article-meta__date\"}).text"
   ]
  },
  {
   "cell_type": "code",
   "execution_count": 28,
   "id": "38b37ac9",
   "metadata": {},
   "outputs": [],
   "source": [
    "urls=[]\n",
    "urls.extend([url1, url2, url3, url4, url5, url6, url7, url8])"
   ]
  },
  {
   "cell_type": "code",
   "execution_count": 29,
   "id": "1960acf6",
   "metadata": {},
   "outputs": [],
   "source": [
    "title=[title1,title2,title3,title4,title5,title6,title7,title8]\n",
    "text_body=[text_body1,text_body2,text_body3,text_body4,text_body5,text_body6,text_body7,text_body8]\n",
    "time=[time1,time2,time3,time4,time5,time6,time7,time8]"
   ]
  },
  {
   "cell_type": "code",
   "execution_count": 36,
   "id": "2a9d572c",
   "metadata": {},
   "outputs": [
    {
     "data": {
      "text/html": [
       "<div>\n",
       "<style scoped>\n",
       "    .dataframe tbody tr th:only-of-type {\n",
       "        vertical-align: middle;\n",
       "    }\n",
       "\n",
       "    .dataframe tbody tr th {\n",
       "        vertical-align: top;\n",
       "    }\n",
       "\n",
       "    .dataframe thead th {\n",
       "        text-align: right;\n",
       "    }\n",
       "</style>\n",
       "<table border=\"1\" class=\"dataframe\">\n",
       "  <thead>\n",
       "    <tr style=\"text-align: right;\">\n",
       "      <th></th>\n",
       "      <th>Заголовок</th>\n",
       "      <th>Текст</th>\n",
       "      <th>Источник</th>\n",
       "      <th>Дата</th>\n",
       "    </tr>\n",
       "  </thead>\n",
       "  <tbody>\n",
       "    <tr>\n",
       "      <th>1</th>\n",
       "      <td>\\n    ESG в переводе на русский\\n</td>\n",
       "      <td>Российский бизнес массово увлекся ESG-концепци...</td>\n",
       "      <td>https://www.vedomosti.ru/ecology/articles/2021...</td>\n",
       "      <td>02 сентября 2021, 01:30 /</td>\n",
       "    </tr>\n",
       "    <tr>\n",
       "      <th>2</th>\n",
       "      <td>\\n    Промышленность сокращает углеродный след...</td>\n",
       "      <td>Трубная металлургическая компания (ТМК) в авгу...</td>\n",
       "      <td>https://www.vedomosti.ru/ecology/articles/2021...</td>\n",
       "      <td>02 сентября 2021, 01:30 /</td>\n",
       "    </tr>\n",
       "    <tr>\n",
       "      <th>3</th>\n",
       "      <td>\\n    ESG нужны правила игры\\n</td>\n",
       "      <td>Историю выделения ESG-идеологии из общей повес...</td>\n",
       "      <td>https://www.vedomosti.ru/ecology/articles/2021...</td>\n",
       "      <td>02 сентября 2021, 01:30 /</td>\n",
       "    </tr>\n",
       "    <tr>\n",
       "      <th>4</th>\n",
       "      <td>\\n    Зеленая и бесконечная\\n</td>\n",
       "      <td>Некарбонная энергетика интересует прогрессивны...</td>\n",
       "      <td>https://www.vedomosti.ru/ecology/articles/2021...</td>\n",
       "      <td>03 июня 2021, 00:33 /</td>\n",
       "    </tr>\n",
       "    <tr>\n",
       "      <th>5</th>\n",
       "      <td>\\n    Сергей Чикалов: «ТМК уже создает новые м...</td>\n",
       "      <td>Металлургия – одна из наиболее экологически ри...</td>\n",
       "      <td>https://www.vedomosti.ru/ecology/characters/20...</td>\n",
       "      <td>03 июня 2021, 00:26 /</td>\n",
       "    </tr>\n",
       "    <tr>\n",
       "      <th>6</th>\n",
       "      <td>\\n    Дышать полной «грудью»\\n</td>\n",
       "      <td>Москва попала в список 30 лучших столиц по кач...</td>\n",
       "      <td>https://www.vedomosti.ru/ecology/articles/2021...</td>\n",
       "      <td>03 июня 2021, 00:30 /</td>\n",
       "    </tr>\n",
       "    <tr>\n",
       "      <th>7</th>\n",
       "      <td>\\n    По принципу «убери за собой»\\n</td>\n",
       "      <td>Необходимо изменить отношение предпринимателей...</td>\n",
       "      <td>https://www.vedomosti.ru/ecology/articles/2021...</td>\n",
       "      <td>03 июня 2021, 00:45 /</td>\n",
       "    </tr>\n",
       "    <tr>\n",
       "      <th>8</th>\n",
       "      <td>\\n    Действительное на желаемое\\n</td>\n",
       "      <td>Несмотря на идущую в России «мусорную» реформу...</td>\n",
       "      <td>https://www.vedomosti.ru/ecology/articles/2021...</td>\n",
       "      <td>03 июня 2021, 00:43 /</td>\n",
       "    </tr>\n",
       "  </tbody>\n",
       "</table>\n",
       "</div>"
      ],
      "text/plain": [
       "                                           Заголовок  \\\n",
       "1                \\n    ESG в переводе на русский\\n     \n",
       "2  \\n    Промышленность сокращает углеродный след...   \n",
       "3                   \\n    ESG нужны правила игры\\n     \n",
       "4                    \\n    Зеленая и бесконечная\\n     \n",
       "5  \\n    Сергей Чикалов: «ТМК уже создает новые м...   \n",
       "6                   \\n    Дышать полной «грудью»\\n     \n",
       "7             \\n    По принципу «убери за собой»\\n     \n",
       "8               \\n    Действительное на желаемое\\n     \n",
       "\n",
       "                                               Текст  \\\n",
       "1  Российский бизнес массово увлекся ESG-концепци...   \n",
       "2  Трубная металлургическая компания (ТМК) в авгу...   \n",
       "3  Историю выделения ESG-идеологии из общей повес...   \n",
       "4  Некарбонная энергетика интересует прогрессивны...   \n",
       "5  Металлургия – одна из наиболее экологически ри...   \n",
       "6  Москва попала в список 30 лучших столиц по кач...   \n",
       "7  Необходимо изменить отношение предпринимателей...   \n",
       "8  Несмотря на идущую в России «мусорную» реформу...   \n",
       "\n",
       "                                            Источник  \\\n",
       "1  https://www.vedomosti.ru/ecology/articles/2021...   \n",
       "2  https://www.vedomosti.ru/ecology/articles/2021...   \n",
       "3  https://www.vedomosti.ru/ecology/articles/2021...   \n",
       "4  https://www.vedomosti.ru/ecology/articles/2021...   \n",
       "5  https://www.vedomosti.ru/ecology/characters/20...   \n",
       "6  https://www.vedomosti.ru/ecology/articles/2021...   \n",
       "7  https://www.vedomosti.ru/ecology/articles/2021...   \n",
       "8  https://www.vedomosti.ru/ecology/articles/2021...   \n",
       "\n",
       "                        Дата  \n",
       "1  02 сентября 2021, 01:30 /  \n",
       "2  02 сентября 2021, 01:30 /  \n",
       "3  02 сентября 2021, 01:30 /  \n",
       "4      03 июня 2021, 00:33 /  \n",
       "5      03 июня 2021, 00:26 /  \n",
       "6      03 июня 2021, 00:30 /  \n",
       "7      03 июня 2021, 00:45 /  \n",
       "8      03 июня 2021, 00:43 /  "
      ]
     },
     "metadata": {},
     "output_type": "display_data"
    }
   ],
   "source": [
    "ind=[1,2,3,4,5,6,7,8]\n",
    "df = pd.DataFrame({\"Заголовок\": title, \"Текст\": text_body, \"Источник\": urls, \"Дата\": time}, index=ind)\n",
    "display(df)"
   ]
  },
  {
   "cell_type": "code",
   "execution_count": 34,
   "id": "51ae81a5",
   "metadata": {},
   "outputs": [],
   "source": [
    "df.to_csv(\"C:\\\\Users\\\\vira_\\\\Downloads\\\\hometask.csv\")"
   ]
  },
  {
   "cell_type": "code",
   "execution_count": null,
   "id": "52a6d30c",
   "metadata": {},
   "outputs": [],
   "source": [
    " "
   ]
  }
 ],
 "metadata": {
  "kernelspec": {
   "display_name": "Python 3",
   "language": "python",
   "name": "python3"
  },
  "language_info": {
   "codemirror_mode": {
    "name": "ipython",
    "version": 3
   },
   "file_extension": ".py",
   "mimetype": "text/x-python",
   "name": "python",
   "nbconvert_exporter": "python",
   "pygments_lexer": "ipython3",
   "version": "3.8.8"
  }
 },
 "nbformat": 4,
 "nbformat_minor": 5
}
